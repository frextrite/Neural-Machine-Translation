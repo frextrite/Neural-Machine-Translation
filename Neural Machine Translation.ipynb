{
 "cells": [
  {
   "cell_type": "code",
   "execution_count": 1,
   "metadata": {},
   "outputs": [],
   "source": [
    "# variables\n",
    "train_en = './dataset/train.en'\n",
    "train_vi = './dataset/train.vi'"
   ]
  },
  {
   "cell_type": "code",
   "execution_count": 2,
   "metadata": {},
   "outputs": [],
   "source": [
    "# read the translation files\n",
    "datafile_en = open(train_en, 'r')\n",
    "datafile_vi = open(train_vi, 'r')"
   ]
  },
  {
   "cell_type": "code",
   "execution_count": 3,
   "metadata": {},
   "outputs": [],
   "source": [
    "# get all sentences from the files\n",
    "sentences_en = datafile_en.readlines()\n",
    "sentences_vi = datafile_vi.readlines()"
   ]
  },
  {
   "cell_type": "code",
   "execution_count": 4,
   "metadata": {},
   "outputs": [
    {
     "name": "stdout",
     "output_type": "stream",
     "text": [
      "133317\n",
      "133317\n",
      "['Rachel Pike : The science behind a climate headline\\n', 'In 4 minutes , atmospheric chemist Rachel Pike provides a glimpse of the massive scientific effort behind the bold headlines on climate change , with her team -- one of thousands who contributed -- taking a risky flight over the rainforest in pursuit of data on a key molecule .\\n', 'I &apos;d like to talk to you today about the scale of the scientific effort that goes into making the headlines you see in the paper .\\n', 'Headlines that look like this when they have to do with climate change , and headlines that look like this when they have to do with air quality or smog .\\n', 'They are both two branches of the same field of atmospheric science .\\n']\n",
      "['Khoa học đằng sau một tiêu đề về khí hậu\\n', 'Trong 4 phút , chuyên gia hoá học khí quyển Rachel Pike giới thiệu sơ lược về những nỗ lực khoa học miệt mài đằng sau những tiêu đề táo bạo về biến đổi khí hậu , cùng với đoàn nghiên cứu của mình -- hàng ngàn người đã cống hiến cho dự án này -- một chuyến bay mạo hiểm qua rừng già để tìm kiếm thông tin về một phân tử then chốt .\\n', 'Tôi muốn cho các bạn biết về sự to lớn của những nỗ lực khoa học đã góp phần làm nên các dòng tít bạn thường thấy trên báo .\\n', 'Có những dòng trông như thế này khi bàn về biến đổi khí hậu , và như thế này khi nói về chất lượng không khí hay khói bụi .\\n', 'Cả hai đều là một nhánh của cùng một lĩnh vực trong ngành khoa học khí quyển .\\n']\n"
     ]
    }
   ],
   "source": [
    "# play with data\n",
    "print(len(sentences_en))\n",
    "print(len(sentences_vi))\n",
    "print(sentences_en[:5])\n",
    "print(sentences_vi[:5])"
   ]
  },
  {
   "cell_type": "code",
   "execution_count": 5,
   "metadata": {},
   "outputs": [],
   "source": [
    "# create a character array of all the english characters\n",
    "char_array_en = []\n",
    "for sentence in sentences_en:\n",
    "    for char in sentence:\n",
    "        char_array_en.append(char)"
   ]
  },
  {
   "cell_type": "code",
   "execution_count": 6,
   "metadata": {},
   "outputs": [],
   "source": [
    "# create a character array of all the vietnamese characters\n",
    "char_array_vi = []\n",
    "for sentence in sentences_vi:\n",
    "    for char in sentence:\n",
    "        char_array_vi.append(char)"
   ]
  },
  {
   "cell_type": "code",
   "execution_count": 7,
   "metadata": {},
   "outputs": [
    {
     "data": {
      "text/plain": [
       "124"
      ]
     },
     "execution_count": 7,
     "metadata": {},
     "output_type": "execute_result"
    }
   ],
   "source": [
    "# create a dictionary of words and their frequency for english characters\n",
    "from collections import Counter\n",
    "char_dict_en = dict(Counter(char_array_en))\n",
    "len(char_dict_en)"
   ]
  },
  {
   "cell_type": "code",
   "execution_count": 8,
   "metadata": {},
   "outputs": [
    {
     "data": {
      "text/plain": [
       "238"
      ]
     },
     "execution_count": 8,
     "metadata": {},
     "output_type": "execute_result"
    }
   ],
   "source": [
    "# create a dictionary of words and their frequency for vietnamese characters\n",
    "from collections import Counter\n",
    "char_dict_vi = dict(Counter(char_array_vi))\n",
    "len(char_dict_vi)"
   ]
  }
 ],
 "metadata": {
  "kernelspec": {
   "display_name": "Python [conda env:tensorflow]",
   "language": "python",
   "name": "conda-env-tensorflow-py"
  },
  "language_info": {
   "codemirror_mode": {
    "name": "ipython",
    "version": 3
   },
   "file_extension": ".py",
   "mimetype": "text/x-python",
   "name": "python",
   "nbconvert_exporter": "python",
   "pygments_lexer": "ipython3",
   "version": "3.6.6"
  }
 },
 "nbformat": 4,
 "nbformat_minor": 2
}
